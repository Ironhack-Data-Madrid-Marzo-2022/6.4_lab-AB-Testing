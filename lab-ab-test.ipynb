{
 "cells": [
  {
   "cell_type": "markdown",
   "id": "angry-pearl",
   "metadata": {
    "toc": true,
    "pycharm": {
     "name": "#%% md\n"
    }
   },
   "source": [
    "<h1>Table of Contents<span class=\"tocSkip\"></span></h1>\n",
    "<div class=\"toc\"><ul class=\"toc-item\"><li><span><a href=\"#AB-Testing\" data-toc-modified-id=\"AB-Testing-1\"><span class=\"toc-item-num\">1&nbsp;&nbsp;</span>AB-Testing</a></span></li></ul></div>"
   ]
  },
  {
   "cell_type": "markdown",
   "source": [
    "# AB-Testing\n",
    "\n",
    "![cats](images/cats.jpeg)\n",
    "\n",
    "\n",
    "Imaginad que somos los cientificos de datos de la empresa de videojuegos Tactile Entertainment. Los desarrolladores del juego Cookie Cats pretenden introducir un cambio en el juego para aumentar la retencion de los jugadores. En cierto nivel del juego los jugadores se encuentran una puerta que les obliga a esperar o a pagar la app. Actualmente la puerta se encuentra en nivel 30 y se pretende pasar al nivel 40, para comprobar la retencion a 1 y 7 dias. Antes de realizar el cambio definitivo en el juego se raliza un test AB.\n",
    "\n",
    "Los datos estan alojados en `data/cookie_cats.csv`. Nuestro grupo de control sera la version actual `gate_30` y el grupo de tratamiento sera la version `gate_40`. Debemos realizar el test para 1 dia de retencion `retention_1` y para 7 dias `retention_7`.\n",
    "\n",
    "\n",
    "\n",
    "userid: Numero único que identifica a cada jugador.\n",
    "version: Si el jugador se colocó en el grupo de control (puerta_30 - una puerta en el nivel 30) o en el grupo con la puerta movida (puerta_40 - una puerta en el nivel 40).\n",
    "sum_gamerounds: El número de rondas de juego jugadas por el jugador durante los primeros 14 días después de la instalación.\n",
    "retention_1: ¿Regresó el jugador y jugó 1 día después de la instalación?\n",
    "retention_7: ¿Regresó el jugador y jugó 7 días después de la instalación?"
   ],
   "metadata": {
    "collapsed": false,
    "pycharm": {
     "name": "#%% md\n"
    }
   }
  },
  {
   "cell_type": "code",
   "execution_count": 1,
   "outputs": [],
   "source": [
    "# librerias\n",
    "\n",
    "import pandas as pd\n",
    "import numpy as np\n",
    "\n",
    "from statsmodels.stats.proportion import proportions_ztest, proportion_confint\n",
    "from scipy.stats import norm, sem\n",
    "\n",
    "import pylab as plt\n",
    "import seaborn as sns\n",
    "from scipy.stats import bernoulli, beta"
   ],
   "metadata": {
    "collapsed": false,
    "pycharm": {
     "name": "#%%\n"
    }
   }
  },
  {
   "cell_type": "code",
   "execution_count": 2,
   "outputs": [
    {
     "data": {
      "text/plain": "   userid  version  sum_gamerounds  retention_1  retention_7\n0     116  gate_30               3        False        False\n1     337  gate_30              38         True        False\n2     377  gate_40             165         True        False\n3     483  gate_40               1        False        False\n4     488  gate_40             179         True         True",
      "text/html": "<div>\n<style scoped>\n    .dataframe tbody tr th:only-of-type {\n        vertical-align: middle;\n    }\n\n    .dataframe tbody tr th {\n        vertical-align: top;\n    }\n\n    .dataframe thead th {\n        text-align: right;\n    }\n</style>\n<table border=\"1\" class=\"dataframe\">\n  <thead>\n    <tr style=\"text-align: right;\">\n      <th></th>\n      <th>userid</th>\n      <th>version</th>\n      <th>sum_gamerounds</th>\n      <th>retention_1</th>\n      <th>retention_7</th>\n    </tr>\n  </thead>\n  <tbody>\n    <tr>\n      <th>0</th>\n      <td>116</td>\n      <td>gate_30</td>\n      <td>3</td>\n      <td>False</td>\n      <td>False</td>\n    </tr>\n    <tr>\n      <th>1</th>\n      <td>337</td>\n      <td>gate_30</td>\n      <td>38</td>\n      <td>True</td>\n      <td>False</td>\n    </tr>\n    <tr>\n      <th>2</th>\n      <td>377</td>\n      <td>gate_40</td>\n      <td>165</td>\n      <td>True</td>\n      <td>False</td>\n    </tr>\n    <tr>\n      <th>3</th>\n      <td>483</td>\n      <td>gate_40</td>\n      <td>1</td>\n      <td>False</td>\n      <td>False</td>\n    </tr>\n    <tr>\n      <th>4</th>\n      <td>488</td>\n      <td>gate_40</td>\n      <td>179</td>\n      <td>True</td>\n      <td>True</td>\n    </tr>\n  </tbody>\n</table>\n</div>"
     },
     "execution_count": 2,
     "metadata": {},
     "output_type": "execute_result"
    }
   ],
   "source": [
    "# datos\n",
    "df = pd.read_csv('data/cookie_cats.csv')\n",
    "df.head()"
   ],
   "metadata": {
    "collapsed": false,
    "pycharm": {
     "name": "#%%\n"
    }
   }
  },
  {
   "cell_type": "code",
   "execution_count": 3,
   "outputs": [
    {
     "data": {
      "text/plain": "                  count          mean           std    min        25%  \\\nuserid          90189.0  4.998412e+06  2.883286e+06  116.0  2512230.0   \nsum_gamerounds  90189.0  5.187246e+01  1.950509e+02    0.0        5.0   \n\n                      50%        75%        max  \nuserid          4995815.0  7496452.0  9999861.0  \nsum_gamerounds       16.0       51.0    49854.0  ",
      "text/html": "<div>\n<style scoped>\n    .dataframe tbody tr th:only-of-type {\n        vertical-align: middle;\n    }\n\n    .dataframe tbody tr th {\n        vertical-align: top;\n    }\n\n    .dataframe thead th {\n        text-align: right;\n    }\n</style>\n<table border=\"1\" class=\"dataframe\">\n  <thead>\n    <tr style=\"text-align: right;\">\n      <th></th>\n      <th>count</th>\n      <th>mean</th>\n      <th>std</th>\n      <th>min</th>\n      <th>25%</th>\n      <th>50%</th>\n      <th>75%</th>\n      <th>max</th>\n    </tr>\n  </thead>\n  <tbody>\n    <tr>\n      <th>userid</th>\n      <td>90189.0</td>\n      <td>4.998412e+06</td>\n      <td>2.883286e+06</td>\n      <td>116.0</td>\n      <td>2512230.0</td>\n      <td>4995815.0</td>\n      <td>7496452.0</td>\n      <td>9999861.0</td>\n    </tr>\n    <tr>\n      <th>sum_gamerounds</th>\n      <td>90189.0</td>\n      <td>5.187246e+01</td>\n      <td>1.950509e+02</td>\n      <td>0.0</td>\n      <td>5.0</td>\n      <td>16.0</td>\n      <td>51.0</td>\n      <td>49854.0</td>\n    </tr>\n  </tbody>\n</table>\n</div>"
     },
     "execution_count": 3,
     "metadata": {},
     "output_type": "execute_result"
    }
   ],
   "source": [
    "df.describe().T"
   ],
   "metadata": {
    "collapsed": false,
    "pycharm": {
     "name": "#%%\n"
    }
   }
  },
  {
   "cell_type": "code",
   "execution_count": 4,
   "outputs": [
    {
     "data": {
      "text/plain": "               userid  sum_gamerounds  retention_1  retention_7\nversion                                                        \ngate_30  222944098441         2344795        20034         8502\ngate_40  227857702576         2333530        20119         8279",
      "text/html": "<div>\n<style scoped>\n    .dataframe tbody tr th:only-of-type {\n        vertical-align: middle;\n    }\n\n    .dataframe tbody tr th {\n        vertical-align: top;\n    }\n\n    .dataframe thead th {\n        text-align: right;\n    }\n</style>\n<table border=\"1\" class=\"dataframe\">\n  <thead>\n    <tr style=\"text-align: right;\">\n      <th></th>\n      <th>userid</th>\n      <th>sum_gamerounds</th>\n      <th>retention_1</th>\n      <th>retention_7</th>\n    </tr>\n    <tr>\n      <th>version</th>\n      <th></th>\n      <th></th>\n      <th></th>\n      <th></th>\n    </tr>\n  </thead>\n  <tbody>\n    <tr>\n      <th>gate_30</th>\n      <td>222944098441</td>\n      <td>2344795</td>\n      <td>20034</td>\n      <td>8502</td>\n    </tr>\n    <tr>\n      <th>gate_40</th>\n      <td>227857702576</td>\n      <td>2333530</td>\n      <td>20119</td>\n      <td>8279</td>\n    </tr>\n  </tbody>\n</table>\n</div>"
     },
     "execution_count": 4,
     "metadata": {},
     "output_type": "execute_result"
    }
   ],
   "source": [
    "df.groupby('version').sum()"
   ],
   "metadata": {
    "collapsed": false,
    "pycharm": {
     "name": "#%%\n"
    }
   }
  },
  {
   "cell_type": "code",
   "execution_count": 5,
   "outputs": [
    {
     "data": {
      "text/plain": "         userid  sum_gamerounds  retention_1  retention_7\nversion                                                  \ngate_30   44700           44700        44700        44700\ngate_40   45489           45489        45489        45489",
      "text/html": "<div>\n<style scoped>\n    .dataframe tbody tr th:only-of-type {\n        vertical-align: middle;\n    }\n\n    .dataframe tbody tr th {\n        vertical-align: top;\n    }\n\n    .dataframe thead th {\n        text-align: right;\n    }\n</style>\n<table border=\"1\" class=\"dataframe\">\n  <thead>\n    <tr style=\"text-align: right;\">\n      <th></th>\n      <th>userid</th>\n      <th>sum_gamerounds</th>\n      <th>retention_1</th>\n      <th>retention_7</th>\n    </tr>\n    <tr>\n      <th>version</th>\n      <th></th>\n      <th></th>\n      <th></th>\n      <th></th>\n    </tr>\n  </thead>\n  <tbody>\n    <tr>\n      <th>gate_30</th>\n      <td>44700</td>\n      <td>44700</td>\n      <td>44700</td>\n      <td>44700</td>\n    </tr>\n    <tr>\n      <th>gate_40</th>\n      <td>45489</td>\n      <td>45489</td>\n      <td>45489</td>\n      <td>45489</td>\n    </tr>\n  </tbody>\n</table>\n</div>"
     },
     "execution_count": 5,
     "metadata": {},
     "output_type": "execute_result"
    }
   ],
   "source": [
    "df.groupby('version').count()"
   ],
   "metadata": {
    "collapsed": false,
    "pycharm": {
     "name": "#%%\n"
    }
   }
  },
  {
   "cell_type": "code",
   "execution_count": 6,
   "outputs": [
    {
     "data": {
      "text/plain": "               userid  sum_gamerounds  retention_1  retention_7\nversion                                                        \ngate_30  4.987564e+06       52.456264     0.448188     0.190201\ngate_40  5.009073e+06       51.298776     0.442283     0.182000",
      "text/html": "<div>\n<style scoped>\n    .dataframe tbody tr th:only-of-type {\n        vertical-align: middle;\n    }\n\n    .dataframe tbody tr th {\n        vertical-align: top;\n    }\n\n    .dataframe thead th {\n        text-align: right;\n    }\n</style>\n<table border=\"1\" class=\"dataframe\">\n  <thead>\n    <tr style=\"text-align: right;\">\n      <th></th>\n      <th>userid</th>\n      <th>sum_gamerounds</th>\n      <th>retention_1</th>\n      <th>retention_7</th>\n    </tr>\n    <tr>\n      <th>version</th>\n      <th></th>\n      <th></th>\n      <th></th>\n      <th></th>\n    </tr>\n  </thead>\n  <tbody>\n    <tr>\n      <th>gate_30</th>\n      <td>4.987564e+06</td>\n      <td>52.456264</td>\n      <td>0.448188</td>\n      <td>0.190201</td>\n    </tr>\n    <tr>\n      <th>gate_40</th>\n      <td>5.009073e+06</td>\n      <td>51.298776</td>\n      <td>0.442283</td>\n      <td>0.182000</td>\n    </tr>\n  </tbody>\n</table>\n</div>"
     },
     "execution_count": 6,
     "metadata": {},
     "output_type": "execute_result"
    }
   ],
   "source": [
    "df.groupby('version').mean()"
   ],
   "metadata": {
    "collapsed": false,
    "pycharm": {
     "name": "#%%\n"
    }
   }
  },
  {
   "cell_type": "code",
   "execution_count": 7,
   "outputs": [
    {
     "data": {
      "text/plain": "               userid  sum_gamerounds  retention_1  retention_7\nversion                                                        \ngate_30  2.881026e+06      256.716423     0.497314     0.392464\ngate_40  2.885496e+06      103.294416     0.496663     0.385849",
      "text/html": "<div>\n<style scoped>\n    .dataframe tbody tr th:only-of-type {\n        vertical-align: middle;\n    }\n\n    .dataframe tbody tr th {\n        vertical-align: top;\n    }\n\n    .dataframe thead th {\n        text-align: right;\n    }\n</style>\n<table border=\"1\" class=\"dataframe\">\n  <thead>\n    <tr style=\"text-align: right;\">\n      <th></th>\n      <th>userid</th>\n      <th>sum_gamerounds</th>\n      <th>retention_1</th>\n      <th>retention_7</th>\n    </tr>\n    <tr>\n      <th>version</th>\n      <th></th>\n      <th></th>\n      <th></th>\n      <th></th>\n    </tr>\n  </thead>\n  <tbody>\n    <tr>\n      <th>gate_30</th>\n      <td>2.881026e+06</td>\n      <td>256.716423</td>\n      <td>0.497314</td>\n      <td>0.392464</td>\n    </tr>\n    <tr>\n      <th>gate_40</th>\n      <td>2.885496e+06</td>\n      <td>103.294416</td>\n      <td>0.496663</td>\n      <td>0.385849</td>\n    </tr>\n  </tbody>\n</table>\n</div>"
     },
     "execution_count": 7,
     "metadata": {},
     "output_type": "execute_result"
    }
   ],
   "source": [
    "df.groupby('version').std()"
   ],
   "metadata": {
    "collapsed": false,
    "pycharm": {
     "name": "#%%\n"
    }
   }
  },
  {
   "cell_type": "code",
   "execution_count": 8,
   "outputs": [
    {
     "data": {
      "text/plain": "          userid                                                           \\\n           count          mean           std    min        25%        50%   \nversion                                                                     \ngate_30  44700.0  4.987564e+06  2.881026e+06  116.0  2505469.0  4983631.0   \ngate_40  45489.0  5.009073e+06  2.885496e+06  377.0  2517171.0  5007329.0   \n\n                               sum_gamerounds                              \\\n                75%        max          count       mean         std  min   \nversion                                                                     \ngate_30  7481496.75  9999710.0        44700.0  52.456264  256.716423  0.0   \ngate_40  7510762.00  9999861.0        45489.0  51.298776  103.294416  0.0   \n\n                                   \n         25%   50%   75%      max  \nversion                            \ngate_30  5.0  17.0  50.0  49854.0  \ngate_40  5.0  16.0  52.0   2640.0  ",
      "text/html": "<div>\n<style scoped>\n    .dataframe tbody tr th:only-of-type {\n        vertical-align: middle;\n    }\n\n    .dataframe tbody tr th {\n        vertical-align: top;\n    }\n\n    .dataframe thead tr th {\n        text-align: left;\n    }\n\n    .dataframe thead tr:last-of-type th {\n        text-align: right;\n    }\n</style>\n<table border=\"1\" class=\"dataframe\">\n  <thead>\n    <tr>\n      <th></th>\n      <th colspan=\"8\" halign=\"left\">userid</th>\n      <th colspan=\"8\" halign=\"left\">sum_gamerounds</th>\n    </tr>\n    <tr>\n      <th></th>\n      <th>count</th>\n      <th>mean</th>\n      <th>std</th>\n      <th>min</th>\n      <th>25%</th>\n      <th>50%</th>\n      <th>75%</th>\n      <th>max</th>\n      <th>count</th>\n      <th>mean</th>\n      <th>std</th>\n      <th>min</th>\n      <th>25%</th>\n      <th>50%</th>\n      <th>75%</th>\n      <th>max</th>\n    </tr>\n    <tr>\n      <th>version</th>\n      <th></th>\n      <th></th>\n      <th></th>\n      <th></th>\n      <th></th>\n      <th></th>\n      <th></th>\n      <th></th>\n      <th></th>\n      <th></th>\n      <th></th>\n      <th></th>\n      <th></th>\n      <th></th>\n      <th></th>\n      <th></th>\n    </tr>\n  </thead>\n  <tbody>\n    <tr>\n      <th>gate_30</th>\n      <td>44700.0</td>\n      <td>4.987564e+06</td>\n      <td>2.881026e+06</td>\n      <td>116.0</td>\n      <td>2505469.0</td>\n      <td>4983631.0</td>\n      <td>7481496.75</td>\n      <td>9999710.0</td>\n      <td>44700.0</td>\n      <td>52.456264</td>\n      <td>256.716423</td>\n      <td>0.0</td>\n      <td>5.0</td>\n      <td>17.0</td>\n      <td>50.0</td>\n      <td>49854.0</td>\n    </tr>\n    <tr>\n      <th>gate_40</th>\n      <td>45489.0</td>\n      <td>5.009073e+06</td>\n      <td>2.885496e+06</td>\n      <td>377.0</td>\n      <td>2517171.0</td>\n      <td>5007329.0</td>\n      <td>7510762.00</td>\n      <td>9999861.0</td>\n      <td>45489.0</td>\n      <td>51.298776</td>\n      <td>103.294416</td>\n      <td>0.0</td>\n      <td>5.0</td>\n      <td>16.0</td>\n      <td>52.0</td>\n      <td>2640.0</td>\n    </tr>\n  </tbody>\n</table>\n</div>"
     },
     "execution_count": 8,
     "metadata": {},
     "output_type": "execute_result"
    }
   ],
   "source": [
    "df.groupby('version').describe()"
   ],
   "metadata": {
    "collapsed": false,
    "pycharm": {
     "name": "#%%\n"
    }
   }
  },
  {
   "cell_type": "code",
   "execution_count": 9,
   "outputs": [
    {
     "data": {
      "text/plain": "               userid  sum_gamerounds  retention_1  retention_7\nversion                                                        \ngate_30  222944098441         2344795        20034         8502\ngate_40  227857702576         2333530        20119         8279",
      "text/html": "<div>\n<style scoped>\n    .dataframe tbody tr th:only-of-type {\n        vertical-align: middle;\n    }\n\n    .dataframe tbody tr th {\n        vertical-align: top;\n    }\n\n    .dataframe thead th {\n        text-align: right;\n    }\n</style>\n<table border=\"1\" class=\"dataframe\">\n  <thead>\n    <tr style=\"text-align: right;\">\n      <th></th>\n      <th>userid</th>\n      <th>sum_gamerounds</th>\n      <th>retention_1</th>\n      <th>retention_7</th>\n    </tr>\n    <tr>\n      <th>version</th>\n      <th></th>\n      <th></th>\n      <th></th>\n      <th></th>\n    </tr>\n  </thead>\n  <tbody>\n    <tr>\n      <th>gate_30</th>\n      <td>222944098441</td>\n      <td>2344795</td>\n      <td>20034</td>\n      <td>8502</td>\n    </tr>\n    <tr>\n      <th>gate_40</th>\n      <td>227857702576</td>\n      <td>2333530</td>\n      <td>20119</td>\n      <td>8279</td>\n    </tr>\n  </tbody>\n</table>\n</div>"
     },
     "execution_count": 9,
     "metadata": {},
     "output_type": "execute_result"
    }
   ],
   "source": [
    "# transformaciones impresiones y conversiones para test y control\n",
    "df.groupby('version').sum()"
   ],
   "metadata": {
    "collapsed": false,
    "pycharm": {
     "name": "#%%\n"
    }
   }
  },
  {
   "cell_type": "code",
   "execution_count": 10,
   "outputs": [],
   "source": [
    "gate_30 = df[df['version'] == 'gate_30']\n",
    "gate_40 = df[df['version'] == 'gate_40']\n",
    "\n",
    "impresiones_control = gate_30['retention_1'].count()\n",
    "conversiones_control = gate_30['retention_1'][gate_30['retention_1'] ==True].count()\n",
    "impresiones_tratamiento = gate_40['retention_1'].count()\n",
    "conversiones_tratamiento = gate_40['retention_1'][gate_40['retention_1'] ==True].count()"
   ],
   "metadata": {
    "collapsed": false,
    "pycharm": {
     "name": "#%%\n"
    }
   }
  },
  {
   "cell_type": "code",
   "execution_count": 11,
   "outputs": [],
   "source": [
    "# probabilidad de conversiones para test y control\n",
    "prob_conversiones_control = conversiones_control / impresiones_control\n",
    "prob_conversiones_tratamiento = conversiones_tratamiento / impresiones_tratamiento"
   ],
   "metadata": {
    "collapsed": false,
    "pycharm": {
     "name": "#%%\n"
    }
   }
  },
  {
   "cell_type": "code",
   "execution_count": 12,
   "outputs": [
    {
     "data": {
      "text/plain": "(0.4481879194630872, 0.44228274967574577)"
     },
     "execution_count": 12,
     "metadata": {},
     "output_type": "execute_result"
    }
   ],
   "source": [
    "# probabilidad de conversiones para test y control\n",
    "prob_conversiones_control, prob_conversiones_tratamiento"
   ],
   "metadata": {
    "collapsed": false,
    "pycharm": {
     "name": "#%%\n"
    }
   }
  },
  {
   "cell_type": "code",
   "execution_count": 13,
   "outputs": [],
   "source": [
    "a_control, b_control = conversiones_control+1, impresiones_control-conversiones_control+1\n",
    "a_tratamiento, b_tratamiento = conversiones_tratamiento+1, impresiones_tratamiento-conversiones_tratamiento+1\n",
    "beta_control = beta(a_control, b_control)\n",
    "beta_tratamiento = beta(a_tratamiento, b_tratamiento)"
   ],
   "metadata": {
    "collapsed": false,
    "pycharm": {
     "name": "#%%\n"
    }
   }
  },
  {
   "cell_type": "code",
   "execution_count": 14,
   "outputs": [
    {
     "data": {
      "text/plain": "(0.44819023757326293, 0.44228528719966587)"
     },
     "execution_count": 14,
     "metadata": {},
     "output_type": "execute_result"
    }
   ],
   "source": [
    "beta_control.mean(), beta_tratamiento.mean()"
   ],
   "metadata": {
    "collapsed": false,
    "pycharm": {
     "name": "#%%\n"
    }
   }
  },
  {
   "cell_type": "code",
   "execution_count": 15,
   "outputs": [],
   "source": [
    "x=np.linspace(0.4, 0.5, 1000)\n",
    "\n",
    "def plot(betas, nombres):\n",
    "\n",
    "    for bet, nom in zip(betas, nombres):\n",
    "\n",
    "        y=bet.pdf(x)\n",
    "        y_media=bet.mean()\n",
    "        y_std=bet.std()\n",
    "\n",
    "        plt.plot(x, y, label='{}, tasa de conv: {:.6f} $\\pm$ {:.10f}'.format(nom, y_media, y_std))\n",
    "        plt.yticks([])\n",
    "\n",
    "    plt.legend()\n",
    "    plt.show();"
   ],
   "metadata": {
    "collapsed": false,
    "pycharm": {
     "name": "#%%\n"
    }
   }
  },
  {
   "cell_type": "code",
   "execution_count": 16,
   "outputs": [
    {
     "data": {
      "text/plain": "<Figure size 432x288 with 1 Axes>",
      "image/png": "[encoded data removed]"
     },
     "metadata": {},
     "output_type": "display_data"
    }
   ],
   "source": [
    "plot([beta_control, beta_tratamiento], ['control', 'tratamiento'])"
   ],
   "metadata": {
    "collapsed": false,
    "pycharm": {
     "name": "#%%\n"
    }
   }
  },
  {
   "cell_type": "code",
   "execution_count": 17,
   "outputs": [],
   "source": [
    "# testeo para retention_7\n",
    "gate_30 = df[df['version'] == 'gate_30']\n",
    "gate_40 = df[df['version'] == 'gate_40']\n",
    "\n",
    "impresiones_control = gate_30['retention_1'].count()\n",
    "conversiones_control = gate_30['retention_1'][gate_30['retention_7'] == True].count()\n",
    "impresiones_tratamiento = gate_40['retention_1'].count()\n",
    "conversiones_tratamiento = gate_40['retention_1'][gate_40['retention_7'] == True].count()"
   ],
   "metadata": {
    "collapsed": false,
    "pycharm": {
     "name": "#%%\n"
    }
   }
  },
  {
   "cell_type": "code",
   "execution_count": 18,
   "outputs": [],
   "source": [
    "# probabilidad de conversiones para test y control\n",
    "prob_conversiones_control = conversiones_control / impresiones_control\n",
    "prob_conversiones_tratamiento = conversiones_tratamiento / impresiones_tratamiento"
   ],
   "metadata": {
    "collapsed": false,
    "pycharm": {
     "name": "#%%\n"
    }
   }
  },
  {
   "cell_type": "code",
   "execution_count": 19,
   "outputs": [],
   "source": [
    "# probabilidad de conversiones para test y control\n",
    "prob_conversiones_control_7 = conversiones_control / impresiones_control\n",
    "prob_conversiones_tratamiento_7 = conversiones_tratamiento / impresiones_tratamiento"
   ],
   "metadata": {
    "collapsed": false,
    "pycharm": {
     "name": "#%%\n"
    }
   }
  },
  {
   "cell_type": "code",
   "execution_count": 20,
   "outputs": [
    {
     "data": {
      "text/plain": "(0.19020134228187918, 0.18200004396667327)"
     },
     "execution_count": 20,
     "metadata": {},
     "output_type": "execute_result"
    }
   ],
   "source": [
    "# probabilidad de conversiones para test y control\n",
    "prob_conversiones_control_7, prob_conversiones_tratamiento_7"
   ],
   "metadata": {
    "collapsed": false,
    "pycharm": {
     "name": "#%%\n"
    }
   }
  },
  {
   "cell_type": "code",
   "execution_count": 21,
   "outputs": [],
   "source": [
    "a_control, b_control = conversiones_control + 1, impresiones_control - conversiones_control + 1\n",
    "a_tratamiento, b_tratamiento = conversiones_tratamiento + 1, impresiones_tratamiento - conversiones_tratamiento + 1\n",
    "beta_control = beta(a_control, b_control)\n",
    "beta_tratamiento = beta(a_tratamiento, b_tratamiento)"
   ],
   "metadata": {
    "collapsed": false,
    "pycharm": {
     "name": "#%%\n"
    }
   }
  },
  {
   "cell_type": "code",
   "execution_count": 22,
   "outputs": [
    {
     "data": {
      "text/plain": "(0.19021520289919913, 0.18201402475214878)"
     },
     "execution_count": 22,
     "metadata": {},
     "output_type": "execute_result"
    }
   ],
   "source": [
    "beta_control.mean(), beta_tratamiento.mean()"
   ],
   "metadata": {
    "collapsed": false,
    "pycharm": {
     "name": "#%%\n"
    }
   }
  },
  {
   "cell_type": "code",
   "execution_count": 23,
   "outputs": [],
   "source": [
    "x = np.linspace(0.17, 0.2, 1000)\n",
    "\n",
    "\n",
    "def plot(betas, nombres):\n",
    "    for bet, nom in zip(betas, nombres):\n",
    "        y = bet.pdf(x)\n",
    "        y_media = bet.mean()\n",
    "        y_std = bet.std()\n",
    "\n",
    "        plt.plot(x, y, label='{}, tasa de conv: {:.6f} $\\pm$ {:.10f}'.format(nom, y_media, y_std))\n",
    "        plt.yticks([])\n",
    "\n",
    "    plt.legend()\n",
    "    plt.show();"
   ],
   "metadata": {
    "collapsed": false,
    "pycharm": {
     "name": "#%%\n"
    }
   }
  },
  {
   "cell_type": "code",
   "execution_count": 24,
   "outputs": [
    {
     "data": {
      "text/plain": "<Figure size 432x288 with 1 Axes>",
      "image/png": "[encoded data removed]"
     },
     "metadata": {},
     "output_type": "display_data"
    }
   ],
   "source": [
    "plot([beta_control, beta_tratamiento], ['control', 'tratamiento'])"
   ],
   "metadata": {
    "collapsed": false,
    "pycharm": {
     "name": "#%%\n"
    }
   }
  },
  {
   "cell_type": "code",
   "execution_count": 25,
   "outputs": [],
   "source": [
    "# conclusiones\n",
    "# Explica detalladamente las conclusiones obtenidas de. tu testeo\n",
    "# Mis conclusiones:\n",
    "# 1)"
   ],
   "metadata": {
    "collapsed": false,
    "pycharm": {
     "name": "#%%\n"
    }
   }
  }
 ],
 "metadata": {
  "finalized": {
   "timestamp": 1642857010293,
   "trusted": true
  },
  "kernelspec": {
   "name": "python3",
   "language": "python",
   "display_name": "Python 3 (ipykernel)"
  },
  "language_info": {
   "codemirror_mode": {
    "name": "ipython",
    "version": 3
   },
   "file_extension": ".py",
   "mimetype": "text/x-python",
   "name": "python",
   "nbconvert_exporter": "python",
   "pygments_lexer": "ipython3",
   "version": "3.8.5"
  },
  "toc": {
   "base_numbering": 1,
   "nav_menu": {},
   "number_sections": true,
   "sideBar": true,
   "skip_h1_title": false,
   "title_cell": "Table of Contents",
   "title_sidebar": "Contents",
   "toc_cell": true,
   "toc_position": {},
   "toc_section_display": true,
   "toc_window_display": false
  },
  "varInspector": {
   "cols": {
    "lenName": 16,
    "lenType": 16,
    "lenVar": 40
   },
   "kernels_config": {
    "python": {
     "delete_cmd_postfix": "",
     "delete_cmd_prefix": "del ",
     "library": "var_list.py",
     "varRefreshCmd": "print(var_dic_list())"
    },
    "r": {
     "delete_cmd_postfix": ") ",
     "delete_cmd_prefix": "rm(",
     "library": "var_list.r",
     "varRefreshCmd": "cat(var_dic_list()) "
    }
   },
   "types_to_exclude": [
    "module",
    "function",
    "builtin_function_or_method",
    "instance",
    "_Feature"
   ],
   "window_display": false
  }
 },
 "nbformat": 4,
 "nbformat_minor": 5
}
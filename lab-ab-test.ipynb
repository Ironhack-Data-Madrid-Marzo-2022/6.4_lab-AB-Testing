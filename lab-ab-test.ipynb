{
 "cells": [
  {
   "cell_type": "markdown",
   "id": "angry-pearl",
   "metadata": {
    "toc": true
   },
   "source": [
    "<h1>Table of Contents<span class=\"tocSkip\"></span></h1>\n",
    "<div class=\"toc\"><ul class=\"toc-item\"><li><span><a href=\"#AB-Testing\" data-toc-modified-id=\"AB-Testing-1\"><span class=\"toc-item-num\">1&nbsp;&nbsp;</span>AB-Testing</a></span></li></ul></div>"
   ]
  },
  {
   "cell_type": "markdown",
   "id": "c92ba6e0",
   "metadata": {},
   "source": [
    "# AB-Testing\n",
    "\n",
    "![cats](images/cats.jpeg)\n",
    "\n",
    "\n",
    "Imaginad que somos los cientificos de datos de la empresa de videojuegos Tactile Entertainment. Los desarrolladores del juego Cookie Cats pretenden introducir un cambio en el juego para aumentar la retencion de los jugadores. En cierto nivel del juego los jugadores se encuentran una puerta que les obliga a esperar o a pagar la app. Actualmente la puerta se encuentra en nivel 30 y se pretende pasar al nivel 40, para comprobar la retencion a 1 y 7 dias. Antes de realizar el cambio definitivo en el juego se raliza un test AB.\n",
    "\n",
    "Los datos estan alojados en `data/cookie_cats.csv`. Nuestro grupo de control sera la version actual `gate_30` y el grupo de tratamiento sera la version `gate_40`. Debemos realizar el test para 1 dia de retencion `retention_1` y para 7 dias `retention_7`."
   ]
  },
  {
   "cell_type": "code",
   "execution_count": 2,
   "id": "ac3b2f52",
   "metadata": {},
   "outputs": [
    {
     "name": "stdout",
     "output_type": "stream",
     "text": [
      "Collecting statsmodels\n",
      "  Downloading statsmodels-0.13.2-cp39-cp39-win_amd64.whl (9.1 MB)\n",
      "Requirement already satisfied: packaging>=21.3 in c:\\users\\agc13\\anaconda3\\envs\\clase\\lib\\site-packages (from statsmodels) (21.3)\n",
      "Requirement already satisfied: numpy>=1.17 in c:\\users\\agc13\\anaconda3\\envs\\clase\\lib\\site-packages (from statsmodels) (1.22.3)\n",
      "Requirement already satisfied: scipy>=1.3 in c:\\users\\agc13\\anaconda3\\envs\\clase\\lib\\site-packages (from statsmodels) (1.8.0)\n",
      "Collecting patsy>=0.5.2\n",
      "  Downloading patsy-0.5.2-py2.py3-none-any.whl (233 kB)\n",
      "Requirement already satisfied: pandas>=0.25 in c:\\users\\agc13\\anaconda3\\envs\\clase\\lib\\site-packages (from statsmodels) (1.4.2)\n",
      "Requirement already satisfied: pyparsing!=3.0.5,>=2.0.2 in c:\\users\\agc13\\anaconda3\\envs\\clase\\lib\\site-packages (from packaging>=21.3->statsmodels) (3.0.8)\n",
      "Requirement already satisfied: python-dateutil>=2.8.1 in c:\\users\\agc13\\anaconda3\\envs\\clase\\lib\\site-packages (from pandas>=0.25->statsmodels) (2.8.2)\n",
      "Requirement already satisfied: pytz>=2020.1 in c:\\users\\agc13\\anaconda3\\envs\\clase\\lib\\site-packages (from pandas>=0.25->statsmodels) (2022.1)\n",
      "Requirement already satisfied: six in c:\\users\\agc13\\anaconda3\\envs\\clase\\lib\\site-packages (from patsy>=0.5.2->statsmodels) (1.16.0)\n",
      "Installing collected packages: patsy, statsmodels\n",
      "Successfully installed patsy-0.5.2 statsmodels-0.13.2\n",
      "Note: you may need to restart the kernel to use updated packages.\n"
     ]
    }
   ],
   "source": [
    "%pip install statsmodels\n",
    "import pandas as pd\n",
    "import numpy as np\n",
    "\n",
    "from statsmodels.stats.proportion import proportions_ztest, proportion_confint\n",
    "from scipy.stats import norm, sem\n",
    "\n",
    "import pylab as plt"
   ]
  },
  {
   "cell_type": "code",
   "execution_count": 3,
   "id": "7fe515c2",
   "metadata": {},
   "outputs": [],
   "source": [
    "cats = pd.read_csv(r'C:\\Users\\agc13\\Documents\\Bootcamp\\6-Semana\\6.4_lab-AB-Testing\\data\\cookie_cats.csv')"
   ]
  },
  {
   "cell_type": "code",
   "execution_count": 37,
   "id": "f2e6147a",
   "metadata": {},
   "outputs": [],
   "source": [
    "cats_cross = pd.crosstab(cats.version,cats.retention_1).reset_index(drop = False)"
   ]
  },
  {
   "cell_type": "code",
   "execution_count": 43,
   "id": "e7e0cf99",
   "metadata": {},
   "outputs": [
    {
     "data": {
      "text/html": [
       "<div>\n",
       "<style scoped>\n",
       "    .dataframe tbody tr th:only-of-type {\n",
       "        vertical-align: middle;\n",
       "    }\n",
       "\n",
       "    .dataframe tbody tr th {\n",
       "        vertical-align: top;\n",
       "    }\n",
       "\n",
       "    .dataframe thead th {\n",
       "        text-align: right;\n",
       "    }\n",
       "</style>\n",
       "<table border=\"1\" class=\"dataframe\">\n",
       "  <thead>\n",
       "    <tr style=\"text-align: right;\">\n",
       "      <th>retention_1</th>\n",
       "      <th>version</th>\n",
       "      <th>False</th>\n",
       "      <th>True</th>\n",
       "    </tr>\n",
       "  </thead>\n",
       "  <tbody>\n",
       "    <tr>\n",
       "      <th>0</th>\n",
       "      <td>gate_30</td>\n",
       "      <td>24666</td>\n",
       "      <td>20034</td>\n",
       "    </tr>\n",
       "    <tr>\n",
       "      <th>1</th>\n",
       "      <td>gate_40</td>\n",
       "      <td>25370</td>\n",
       "      <td>20119</td>\n",
       "    </tr>\n",
       "  </tbody>\n",
       "</table>\n",
       "</div>"
      ],
      "text/plain": [
       "retention_1  version  False   True\n",
       "0            gate_30  24666  20034\n",
       "1            gate_40  25370  20119"
      ]
     },
     "execution_count": 43,
     "metadata": {},
     "output_type": "execute_result"
    }
   ],
   "source": [
    "cats_cross.columns"
   ]
  },
  {
   "cell_type": "code",
   "execution_count": 44,
   "id": "ca6643d1",
   "metadata": {},
   "outputs": [
    {
     "data": {
      "text/plain": [
       "'TASAS: Control=0.4481879194630872, Test=0.44228274967574577'"
      ]
     },
     "execution_count": 44,
     "metadata": {},
     "output_type": "execute_result"
    }
   ],
   "source": [
    "imps_ctrl, convs_ctrl = 44700, 20034   # Grupo de control \n",
    "imps_test, convs_test= 45489, 20119    # Se queda un día \n",
    "\n",
    "CR_ctrl=convs_ctrl/imps_ctrl\n",
    "CR_test=convs_test/imps_test\n",
    "\n",
    "f'TASAS: Control={CR_ctrl}, Test={CR_test}'"
   ]
  },
  {
   "cell_type": "code",
   "execution_count": 45,
   "id": "38f422cb",
   "metadata": {},
   "outputs": [
    {
     "data": {
      "text/plain": [
       "(0.44819023757326293, 0.44228528719966587)"
      ]
     },
     "execution_count": 45,
     "metadata": {},
     "output_type": "execute_result"
    }
   ],
   "source": [
    "from scipy.stats import bernoulli, beta               \n",
    "\n",
    "a_C, b_C = convs_ctrl+1, imps_ctrl-convs_ctrl+1\n",
    "a_T, b_T = convs_test+1, imps_test-convs_test+1\n",
    "\n",
    "beta_control=beta(a_C, b_C)\n",
    "beta_test=beta(a_T, b_T)\n",
    "\n",
    "beta_control.mean(), beta_test.mean()"
   ]
  },
  {
   "cell_type": "code",
   "execution_count": 54,
   "id": "27171940",
   "metadata": {},
   "outputs": [],
   "source": [
    "x=np.linspace(0.4, 0.5, 1000)\n",
    "\n",
    "def plot(betas, nombres):\n",
    "    \n",
    "    for bet, nom in zip(betas, nombres):\n",
    "        \n",
    "        y=bet.pdf(x)\n",
    "        y_media=bet.mean()\n",
    "        y_std=bet.std()\n",
    "        \n",
    "        plt.plot(x, y, label='{}, tasa de conv: {:.6f} $\\pm$ {:.10f}'.format(nom, y_media, y_std))\n",
    "        plt.yticks([])\n",
    "        \n",
    "    plt.legend()\n",
    "    plt.show();"
   ]
  },
  {
   "cell_type": "code",
   "execution_count": 55,
   "id": "bdfedc1e",
   "metadata": {},
   "outputs": [
    {
     "data": {
      "image/png": "[encoded data removed]",
      "text/plain": [
       "<Figure size 432x288 with 1 Axes>"
      ]
     },
     "metadata": {
      "needs_background": "light"
     },
     "output_type": "display_data"
    }
   ],
   "source": [
    "plot([beta_control, beta_test], ['Control', 'Testeo'])"
   ]
  },
  {
   "cell_type": "code",
   "execution_count": 56,
   "id": "1705aa9f",
   "metadata": {},
   "outputs": [
    {
     "data": {
      "text/plain": [
       "-0.013175098158249857"
      ]
     },
     "execution_count": 56,
     "metadata": {},
     "output_type": "execute_result"
    }
   ],
   "source": [
    "salto=(beta_test.mean()-beta_control.mean())/beta_control.mean()\n",
    "\n",
    "salto"
   ]
  },
  {
   "cell_type": "code",
   "execution_count": 68,
   "id": "719ed759",
   "metadata": {},
   "outputs": [],
   "source": [
    "from scipy.stats import beta "
   ]
  },
  {
   "cell_type": "code",
   "execution_count": 80,
   "id": "1094d805",
   "metadata": {},
   "outputs": [],
   "source": [
    "prob = 1 - beta_control.cdf(0.446) # Integral para sacar el área "
   ]
  },
  {
   "cell_type": "code",
   "execution_count": 81,
   "id": "8a23fa81",
   "metadata": {},
   "outputs": [
    {
     "data": {
      "text/plain": [
       "'El test disminuye la tasa de conversion en un -1.32%, con una probabilidad del 82.41%'"
      ]
     },
     "execution_count": 81,
     "metadata": {},
     "output_type": "execute_result"
    }
   ],
   "source": [
    "'''El test disminuye la tasa de conversion en un {:2.2f}%, con una probabilidad del {:2.2f}%'''.format(salto*100, prob*100)"
   ]
  },
  {
   "cell_type": "code",
   "execution_count": 82,
   "id": "7696f25f",
   "metadata": {},
   "outputs": [],
   "source": [
    "cats_cross2 = pd.crosstab(cats.version,cats.retention_7).reset_index(drop = False)"
   ]
  },
  {
   "cell_type": "code",
   "execution_count": 83,
   "id": "6cf90d13",
   "metadata": {},
   "outputs": [
    {
     "data": {
      "text/html": [
       "<div>\n",
       "<style scoped>\n",
       "    .dataframe tbody tr th:only-of-type {\n",
       "        vertical-align: middle;\n",
       "    }\n",
       "\n",
       "    .dataframe tbody tr th {\n",
       "        vertical-align: top;\n",
       "    }\n",
       "\n",
       "    .dataframe thead th {\n",
       "        text-align: right;\n",
       "    }\n",
       "</style>\n",
       "<table border=\"1\" class=\"dataframe\">\n",
       "  <thead>\n",
       "    <tr style=\"text-align: right;\">\n",
       "      <th>retention_7</th>\n",
       "      <th>version</th>\n",
       "      <th>False</th>\n",
       "      <th>True</th>\n",
       "    </tr>\n",
       "  </thead>\n",
       "  <tbody>\n",
       "    <tr>\n",
       "      <th>0</th>\n",
       "      <td>gate_30</td>\n",
       "      <td>36198</td>\n",
       "      <td>8502</td>\n",
       "    </tr>\n",
       "    <tr>\n",
       "      <th>1</th>\n",
       "      <td>gate_40</td>\n",
       "      <td>37210</td>\n",
       "      <td>8279</td>\n",
       "    </tr>\n",
       "  </tbody>\n",
       "</table>\n",
       "</div>"
      ],
      "text/plain": [
       "retention_7  version  False  True\n",
       "0            gate_30  36198  8502\n",
       "1            gate_40  37210  8279"
      ]
     },
     "execution_count": 83,
     "metadata": {},
     "output_type": "execute_result"
    }
   ],
   "source": [
    "cats_cross2"
   ]
  },
  {
   "cell_type": "code",
   "execution_count": 84,
   "id": "9fd4f85e",
   "metadata": {},
   "outputs": [
    {
     "data": {
      "text/plain": [
       "'TASAS: Control=0.19020134228187918, Test=0.18200004396667327'"
      ]
     },
     "execution_count": 84,
     "metadata": {},
     "output_type": "execute_result"
    }
   ],
   "source": [
    "imps_ctrl, convs_ctrl = 44700, 8502   # Grupo de control \n",
    "imps_test, convs_test= 45489, 8279    # Se queda un día \n",
    "\n",
    "CR_ctrl=convs_ctrl/imps_ctrl\n",
    "CR_test=convs_test/imps_test\n",
    "\n",
    "f'TASAS: Control={CR_ctrl}, Test={CR_test}'"
   ]
  },
  {
   "cell_type": "code",
   "execution_count": 92,
   "id": "b1d65cc6",
   "metadata": {},
   "outputs": [
    {
     "data": {
      "text/plain": [
       "(0.19021520289919913, 0.18201402475214878)"
      ]
     },
     "execution_count": 92,
     "metadata": {},
     "output_type": "execute_result"
    }
   ],
   "source": [
    "from scipy.stats import bernoulli, beta               \n",
    "\n",
    "a_C, b_C = convs_ctrl+1, imps_ctrl-convs_ctrl+1\n",
    "a_T, b_T = convs_test+1, imps_test-convs_test+1\n",
    "\n",
    "beta_control=beta(a_C, b_C)\n",
    "beta_test=beta(a_T, b_T)\n",
    "\n",
    "beta_control.mean(), beta_test.mean()"
   ]
  },
  {
   "cell_type": "code",
   "execution_count": 97,
   "id": "a323937a",
   "metadata": {},
   "outputs": [],
   "source": [
    "x=np.linspace(0.15, 0.20, 1000)\n",
    "\n",
    "def plot(betas, nombres):\n",
    "    \n",
    "    for bet, nom in zip(betas, nombres):\n",
    "        \n",
    "        y=bet.pdf(x)\n",
    "        y_media=bet.mean()\n",
    "        y_std=bet.std()\n",
    "        \n",
    "        plt.plot(x, y, label='{}, tasa de conv: {:.6f} $\\pm$ {:.10f}'.format(nom, y_media, y_std))\n",
    "        plt.yticks([])\n",
    "        \n",
    "    plt.legend()\n",
    "    plt.show();"
   ]
  },
  {
   "cell_type": "code",
   "execution_count": 98,
   "id": "20cae14a",
   "metadata": {},
   "outputs": [
    {
     "data": {
      "image/png": "[encoded data removed]",
      "text/plain": [
       "<Figure size 432x288 with 1 Axes>"
      ]
     },
     "metadata": {
      "needs_background": "light"
     },
     "output_type": "display_data"
    }
   ],
   "source": [
    "plot([beta_control, beta_test], ['Control', 'Testeo'])"
   ]
  },
  {
   "cell_type": "code",
   "execution_count": 102,
   "id": "c8335c37",
   "metadata": {},
   "outputs": [
    {
     "data": {
      "text/plain": [
       "-0.04311526114658881"
      ]
     },
     "execution_count": 102,
     "metadata": {},
     "output_type": "execute_result"
    }
   ],
   "source": [
    "salto=(beta_test.mean()-beta_control.mean())/beta_control.mean()\n",
    "\n",
    "salto"
   ]
  },
  {
   "cell_type": "code",
   "execution_count": 103,
   "id": "cooked-magnet",
   "metadata": {},
   "outputs": [],
   "source": [
    "prob = 1 - beta_control.cdf(0.186) # Integral para sacar el área "
   ]
  },
  {
   "cell_type": "code",
   "execution_count": 104,
   "id": "e6047185",
   "metadata": {},
   "outputs": [
    {
     "data": {
      "text/plain": [
       "0.9887346805864391"
      ]
     },
     "execution_count": 104,
     "metadata": {},
     "output_type": "execute_result"
    }
   ],
   "source": [
    "prob"
   ]
  },
  {
   "cell_type": "code",
   "execution_count": 105,
   "id": "7a6a1d78",
   "metadata": {},
   "outputs": [
    {
     "data": {
      "text/plain": [
       "'El test disminuye la tasa de conversion en un -4.31%, con una probabilidad del 98.87%'"
      ]
     },
     "execution_count": 105,
     "metadata": {},
     "output_type": "execute_result"
    }
   ],
   "source": [
    "'''El test disminuye la tasa de conversion en un {:2.2f}%, con una probabilidad del {:2.2f}%'''.format(salto*100, prob*100)"
   ]
  },
  {
   "cell_type": "code",
   "execution_count": null,
   "id": "a6880de6",
   "metadata": {},
   "outputs": [],
   "source": []
  }
 ],
 "metadata": {
  "finalized": {
   "timestamp": 1642857010293,
   "trusted": true
  },
  "kernelspec": {
   "display_name": "clase",
   "language": "python",
   "name": "clase"
  },
  "language_info": {
   "codemirror_mode": {
    "name": "ipython",
    "version": 3
   },
   "file_extension": ".py",
   "mimetype": "text/x-python",
   "name": "python",
   "nbconvert_exporter": "python",
   "pygments_lexer": "ipython3",
   "version": "3.9.7"
  },
  "toc": {
   "base_numbering": 1,
   "nav_menu": {},
   "number_sections": true,
   "sideBar": true,
   "skip_h1_title": false,
   "title_cell": "Table of Contents",
   "title_sidebar": "Contents",
   "toc_cell": true,
   "toc_position": {},
   "toc_section_display": true,
   "toc_window_display": false
  },
  "varInspector": {
   "cols": {
    "lenName": 16,
    "lenType": 16,
    "lenVar": 40
   },
   "kernels_config": {
    "python": {
     "delete_cmd_postfix": "",
     "delete_cmd_prefix": "del ",
     "library": "var_list.py",
     "varRefreshCmd": "print(var_dic_list())"
    },
    "r": {
     "delete_cmd_postfix": ") ",
     "delete_cmd_prefix": "rm(",
     "library": "var_list.r",
     "varRefreshCmd": "cat(var_dic_list()) "
    }
   },
   "types_to_exclude": [
    "module",
    "function",
    "builtin_function_or_method",
    "instance",
    "_Feature"
   ],
   "window_display": false
  }
 },
 "nbformat": 4,
 "nbformat_minor": 5
}
